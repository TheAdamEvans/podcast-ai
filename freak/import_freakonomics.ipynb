{
 "cells": [
  {
   "cell_type": "code",
   "execution_count": 43,
   "metadata": {
    "collapsed": true
   },
   "outputs": [],
   "source": [
    "import os\n",
    "from subprocess import call, check_output"
   ]
  },
  {
   "cell_type": "code",
   "execution_count": 44,
   "metadata": {
    "collapsed": true
   },
   "outputs": [],
   "source": [
    "# phone must be in media transfer mode\n",
    "# call([\"adb\", \"usb\"])\n",
    "# adb shell ls '/sdcard/Android/data/'"
   ]
  },
  {
   "cell_type": "code",
   "execution_count": 112,
   "metadata": {
    "collapsed": true
   },
   "outputs": [],
   "source": [
    "SOUND_DIR = '/Users/adam/audio/freak/sound/'\n",
    "PHONE_INTERNAL_DIR = \"/sdcard/Android/data/com.bambuna.podcastaddict/files/podcast/Freakonomics\\ Radio/\""
   ]
  },
  {
   "cell_type": "code",
   "execution_count": 123,
   "metadata": {
    "collapsed": false
   },
   "outputs": [],
   "source": [
    "filenames = output.split('\\r\\n')[:-1]"
   ]
  },
  {
   "cell_type": "code",
   "execution_count": 124,
   "metadata": {
    "collapsed": false
   },
   "outputs": [
    {
     "data": {
      "text/plain": [
       "'freakonomics_mppodcast010913_195.mp3'"
      ]
     },
     "execution_count": 124,
     "metadata": {},
     "output_type": "execute_result"
    }
   ],
   "source": [
    "filenames[0]"
   ]
  },
  {
   "cell_type": "code",
   "execution_count": 120,
   "metadata": {
    "collapsed": false
   },
   "outputs": [
    {
     "data": {
      "text/plain": [
       "'freakonomics_mppodcast010913_195.mp3\\n'"
      ]
     },
     "execution_count": 120,
     "metadata": {},
     "output_type": "execute_result"
    }
   ],
   "source": [
    "check_output(['ls',SOUND_DIR])"
   ]
  },
  {
   "cell_type": "code",
   "execution_count": 121,
   "metadata": {
    "collapsed": true
   },
   "outputs": [],
   "source": [
    "def save_info_from(SOUND_DIR):    \n",
    "\n",
    "    already_gotten = os.listdir(SOUND_DIR)\n",
    "\n",
    "    output = output = check_output(['adb','shell','ls',\"/sdcard/Android/data/com.bambuna.podcastaddict/files/podcast/Freakonomics\\ Radio/\"])\n",
    "    filenames = output.split('\\r\\n')[:-1]\n",
    "    \n",
    "    for fn in filenames:\n",
    "        if fn in already_gotten:\n",
    "            print \"Already got\", fn\n",
    "        else:\n",
    "            call(['adb','pull',\"/sdcard/Android/data/com.bambuna.podcastaddict/files/podcast/Freakonomics Radio/\"+fn,SOUND_DIR+'.'])\n",
    "            print \"Copied\", fn"
   ]
  },
  {
   "cell_type": "code",
   "execution_count": 122,
   "metadata": {
    "collapsed": false
   },
   "outputs": [
    {
     "name": "stdout",
     "output_type": "stream",
     "text": [
      "Already got freakonomics_mppodcast010913_195.mp3\n",
      "Copied freakonomics_mppodcast011112_247.mp3\n",
      "Copied freakonomics_mppodcast012313_193.mp3\n",
      "Copied freakonomics_mppodcast012512_245.mp3\n",
      "Copied freakonomics_mppodcast020613_191.mp3\n",
      "Copied freakonomics_mppodcast020812_243.mp3\n",
      "Copied freakonomics_mppodcast022013_189.mp3\n",
      "Copied freakonomics_mppodcast022212_241.mp3\n",
      "Copied freakonomics_mppodcast030613_187.mp3\n",
      "Copied freakonomics_mppodcast030712_239.mp3\n",
      "Copied freakonomics_mppodcast032113_185.mp3\n",
      "Copied freakonomics_mppodcast032212_237.mp3\n",
      "Copied freakonomics_mppodcast040312_235.mp3\n",
      "Copied freakonomics_mppodcast040313_183.mp3\n",
      "Copied freakonomics_mppodcast041713_181.mp3\n",
      "Copied freakonomics_mppodcast041812_233.mp3\n",
      "Copied freakonomics_mppodcast050113_179.mp3\n",
      "Copied freakonomics_mppodcast050212_231.mp3\n",
      "Copied freakonomics_mppodcast051513_177.mp3\n",
      "Copied freakonomics_mppodcast051612_229.mp3\n",
      "Copied freakonomics_mppodcast052913_175.mp3\n",
      "Copied freakonomics_mppodcast053012_227.mp3\n",
      "Copied freakonomics_mppodcast061213_173.mp3\n",
      "Copied freakonomics_mppodcast061312_225.mp3\n",
      "Copied freakonomics_mppodcast062612_223.mp3\n",
      "Copied freakonomics_mppodcast071012_221.mp3\n",
      "Copied freakonomics_mppodcast071013_170.mp3\n",
      "Copied freakonomics_mppodcast072512_219.mp3\n",
      "Copied freakonomics_mppodcast080812_217.mp3\n",
      "Copied freakonomics_mppodcast082212_215.mp3\n",
      "Copied freakonomics_mppodcast090512_213.mp3\n",
      "Copied freakonomics_mppodcast091912_211.mp3\n",
      "Copied freakonomics_mppodcast100312_209.mp3\n",
      "Copied freakonomics_mppodcast101712_207.mp3\n",
      "Copied freakonomics_mppodcast103112_205.mp3\n",
      "Copied freakonomics_mppodcast111412_203.mp3\n",
      "Copied freakonomics_mppodcast112812_201.mp3\n",
      "Copied freakonomics_mppodcast112911_253.mp3\n",
      "Copied freakonomics_mppodcast121212_199.mp3\n",
      "Copied freakonomics_mppodcast121311_251.mp3\n",
      "Copied freakonomics_mppodcast122612_197.mp3\n",
      "Copied freakonomics_mppodcast122711_249.mp3\n",
      "Copied freakonomics_podcast010213_196.mp3\n",
      "Copied freakonomics_podcast010214_145.mp3\n",
      "Copied freakonomics_podcast010412_248.mp3\n",
      "Copied freakonomics_podcast010616_40.mp3\n",
      "Copied freakonomics_podcast010914_144.mp3\n",
      "Copied freakonomics_podcast011316_39.mp3\n",
      "Copied freakonomics_podcast011613_194.mp3\n",
      "Copied freakonomics_podcast011614_143.mp3\n",
      "Copied freakonomics_podcast011812_246.mp3\n",
      "Copied freakonomics_podcast012016_38.mp3\n",
      "Copied freakonomics_podcast012314_142.mp3\n",
      "Copied freakonomics_podcast012716_37.mp3\n",
      "Copied freakonomics_podcast013013_192.mp3\n",
      "Copied freakonomics_podcast013014_141.mp3\n",
      "Copied freakonomics_podcast020112_244.mp3\n",
      "Copied freakonomics_podcast020316_36.mp3\n",
      "Copied freakonomics_podcast020614_140.mp3\n",
      "Copied freakonomics_podcast021016_35.mp3\n",
      "Copied freakonomics_podcast021313_190.mp3\n",
      "Copied freakonomics_podcast021314_139.mp3\n",
      "Copied freakonomics_podcast021512_242.mp3\n",
      "Copied freakonomics_podcast021716_34.mp3\n",
      "Copied freakonomics_podcast022014_138.mp3\n",
      "Copied freakonomics_podcast022413_188.mp3\n",
      "Copied freakonomics_podcast022416_33.mp3\n",
      "Copied freakonomics_podcast022714_137.mp3\n",
      "Copied freakonomics_podcast030216_32.mp3\n",
      "Copied freakonomics_podcast030614_136.mp3\n",
      "Copied freakonomics_podcast030916_31.mp3\n",
      "Copied freakonomics_podcast031313_186.mp3\n",
      "Copied freakonomics_podcast031314_135.mp3\n",
      "Copied freakonomics_podcast031616_30.mp3\n",
      "Copied freakonomics_podcast032014_134.mp3\n",
      "Copied freakonomics_podcast032416_29.mp3\n",
      "Copied freakonomics_podcast032713_184.mp3\n",
      "Copied freakonomics_podcast032714_133.mp3\n",
      "Copied freakonomics_podcast033016_28.mp3\n",
      "Copied freakonomics_podcast040314_132.mp3\n",
      "Copied freakonomics_podcast040616_27.mp3\n",
      "Copied freakonomics_podcast040813_182.mp3\n",
      "Copied freakonomics_podcast041014_131.mp3\n",
      "Copied freakonomics_podcast041316_26.mp3\n",
      "Copied freakonomics_podcast041714_130.mp3\n",
      "Copied freakonomics_podcast042016_25.mp3\n",
      "Copied freakonomics_podcast042414_129.mp3\n",
      "Copied freakonomics_podcast042513_180.mp3\n",
      "Copied freakonomics_podcast042716_24.mp3\n",
      "Copied freakonomics_podcast050114_128.mp3\n",
      "Copied freakonomics_podcast050116_23.mp3\n",
      "Copied freakonomics_podcast050416_22.mp3\n",
      "Copied freakonomics_podcast050712_230.mp3\n",
      "Copied freakonomics_podcast050814_127.mp3\n",
      "Copied freakonomics_podcast050913_178.mp3\n",
      "Copied freakonomics_podcast051116_21.mp3\n",
      "Copied freakonomics_podcast051514_126.mp3\n",
      "Copied freakonomics_podcast051816_20.mp3\n",
      "Copied freakonomics_podcast052214_125.mp3\n",
      "Copied freakonomics_podcast052312_228.mp3\n",
      "Copied freakonomics_podcast052313_176.mp3\n",
      "Copied freakonomics_podcast052516_19.mp3\n",
      "Copied freakonomics_podcast052914_124.mp3\n",
      "Copied freakonomics_podcast060116_18.mp3\n",
      "Copied freakonomics_podcast060313_174.mp3\n",
      "Copied freakonomics_podcast060415_71.mp3\n",
      "Copied freakonomics_podcast060514_123.mp3\n",
      "Copied freakonomics_podcast060612_226.mp3\n",
      "Copied freakonomics_podcast060816_17.mp3\n",
      "Copied freakonomics_podcast061115_70.mp3\n",
      "Copied freakonomics_podcast061214_122.mp3\n",
      "Copied freakonomics_podcast061516_16.mp3\n",
      "Copied freakonomics_podcast061715_69.mp3\n",
      "Copied freakonomics_podcast061914_121.mp3\n",
      "Copied freakonomics_podcast062012_224.mp3\n",
      "Copied freakonomics_podcast062013_172.mp3\n",
      "Copied freakonomics_podcast062216_15.mp3\n",
      "Copied freakonomics_podcast062415_68.mp3\n",
      "Copied freakonomics_podcast062614_120.mp3\n",
      "Copied freakonomics_podcast062916_14.mp3\n",
      "Copied freakonomics_podcast070115_67.mp3\n",
      "Copied freakonomics_podcast070313_171.mp3\n",
      "Copied freakonomics_podcast070314_119.mp3\n",
      "Copied freakonomics_podcast070412_222.mp3\n",
      "Copied freakonomics_podcast070616_13.mp3\n",
      "Copied freakonomics_podcast070815_66.mp3\n",
      "Copied freakonomics_podcast071014_118.mp3\n",
      "Copied freakonomics_podcast071316_12.mp3\n",
      "Copied freakonomics_podcast071515_65.mp3\n",
      "Copied freakonomics_podcast07172014_117.mp3\n",
      "Copied freakonomics_podcast071812_220.mp3\n",
      "Copied freakonomics_podcast071813_169.mp3\n",
      "Copied freakonomics_podcast072016_11.mp3\n",
      "Copied freakonomics_podcast072213_168.mp3\n",
      "Copied freakonomics_podcast072315_64.mp3\n",
      "Copied freakonomics_podcast072413_116.mp3\n",
      "Copied freakonomics_podcast072716_10.mp3\n",
      "Copied freakonomics_podcast072915_63.mp3\n",
      "Copied freakonomics_podcast073012_218.mp3\n",
      "Copied freakonomics_podcast073114_115.mp3\n",
      "Copied freakonomics_podcast080113_167.mp3\n",
      "Copied freakonomics_podcast080316_9.mp3\n",
      "Copied freakonomics_podcast080515_62.mp3\n",
      "Copied freakonomics_podcast080714_114.mp3\n",
      "Copied freakonomics_podcast080813_166.mp3\n",
      "Copied freakonomics_podcast081016_8.mp3\n",
      "Copied freakonomics_podcast081215_61.mp3\n",
      "Copied freakonomics_podcast081414_113.mp3\n",
      "Copied freakonomics_podcast081512_216.mp3\n",
      "Copied freakonomics_podcast081513_165.mp3\n",
      "Copied freakonomics_podcast081716_7.mp3\n",
      "Copied freakonomics_podcast081915_60.mp3\n",
      "Copied freakonomics_podcast082114_112.mp3\n",
      "Copied freakonomics_podcast082213_164.mp3\n",
      "Copied freakonomics_podcast082416_6.mp3\n",
      "Copied freakonomics_podcast082615_59.mp3\n",
      "Copied freakonomics_podcast082814_111.mp3\n",
      "Copied freakonomics_podcast082912_214.mp3\n",
      "Copied freakonomics_podcast082913_163.mp3\n",
      "Copied freakonomics_podcast083116_5.mp3\n",
      "Copied freakonomics_podcast090215_58.mp3\n",
      "Copied freakonomics_podcast090414_110.mp3\n",
      "Copied freakonomics_podcast090513_162.mp3\n",
      "Copied freakonomics_podcast090915_57.mp3\n",
      "Copied freakonomics_podcast091114_109.mp3\n",
      "Copied freakonomics_podcast091212_212.mp3\n",
      "Copied freakonomics_podcast091213_161.mp3\n",
      "Copied freakonomics_podcast091615_56.mp3\n",
      "Copied freakonomics_podcast091814_108.mp3\n",
      "Copied freakonomics_podcast091913_160.mp3\n",
      "Copied freakonomics_podcast092315_55.mp3\n",
      "Copied freakonomics_podcast092412_210.mp3\n",
      "Copied freakonomics_podcast092514_107.mp3\n",
      "Copied freakonomics_podcast092613_159.mp3\n",
      "Copied freakonomics_podcast093015_54.mp3\n",
      "Copied freakonomics_podcast100214_106.mp3\n",
      "Copied freakonomics_podcast100313_158.mp3\n",
      "Copied freakonomics_podcast100715_53.mp3\n",
      "Copied freakonomics_podcast100914_105.mp3\n",
      "Copied freakonomics_podcast101012_208.mp3\n",
      "Copied freakonomics_podcast101013_157.mp3\n",
      "Copied freakonomics_podcast101413_156.mp3\n",
      "Copied freakonomics_podcast101415_52.mp3\n",
      "Copied freakonomics_podcast101614_104.mp3\n",
      "Copied freakonomics_podcast102115_51.mp3\n",
      "Copied freakonomics_podcast102314_103.mp3\n",
      "Copied freakonomics_podcast102412_206.mp3\n",
      "Copied freakonomics_podcast102413_155.mp3\n",
      "Copied freakonomics_podcast102815_50.mp3\n",
      "Copied freakonomics_podcast103014_102.mp3\n",
      "Copied freakonomics_podcast103113_154.mp3\n",
      "Copied freakonomics_podcast110415_49.mp3\n",
      "Copied freakonomics_podcast110512_204.mp3\n",
      "Copied freakonomics_podcast110614_101.mp3\n",
      "Copied freakonomics_podcast110713_153.mp3\n",
      "Copied freakonomics_podcast111115_48.mp3\n",
      "Copied freakonomics_podcast111314_100.mp3\n",
      "Copied freakonomics_podcast111413_152.mp3\n",
      "Copied freakonomics_podcast111815_47.mp3\n",
      "Copied freakonomics_podcast112014_99.mp3\n",
      "Copied freakonomics_podcast112112_202.mp3\n",
      "Copied freakonomics_podcast112113_151.mp3\n",
      "Copied freakonomics_podcast112515_46.mp3\n",
      "Copied freakonomics_podcast112713_150.mp3\n",
      "Copied freakonomics_podcast120511_252.mp3\n",
      "Copied freakonomics_podcast120512_200.mp3\n",
      "Copied freakonomics_podcast120513_149.mp3\n",
      "Copied freakonomics_podcast120915_44.mp3\n",
      "Copied freakonomics_podcast121115_45.mp3\n",
      "Copied freakonomics_podcast121213_148.mp3\n",
      "Copied freakonomics_podcast121615_43.mp3\n",
      "Copied freakonomics_podcast121912_198.mp3\n",
      "Copied freakonomics_podcast121913_147.mp3\n",
      "Copied freakonomics_podcast122111_250.mp3\n",
      "Copied freakonomics_podcast122315_42.mp3\n",
      "Copied freakonomics_podcast122613_146.mp3\n",
      "Copied freakonomics_podcast123015_41.mp3\n",
      "Copied freakonomics_specials022912_240.mp3\n",
      "Copied freakonomics_specials031412_238.mp3\n",
      "Copied freakonomics_specials032812_236.mp3\n",
      "Copied freakonomics_specials041112_234.mp3\n",
      "Copied freakonomics_specials042512_232.mp3\n"
     ]
    }
   ],
   "source": [
    "save_info_from(SOUND_DIR)"
   ]
  },
  {
   "cell_type": "code",
   "execution_count": null,
   "metadata": {
    "collapsed": true
   },
   "outputs": [],
   "source": [
    "    "
   ]
  }
 ],
 "metadata": {
  "kernelspec": {
   "display_name": "Python 2",
   "language": "python",
   "name": "python2"
  },
  "language_info": {
   "codemirror_mode": {
    "name": "ipython",
    "version": 2
   },
   "file_extension": ".py",
   "mimetype": "text/x-python",
   "name": "python",
   "nbconvert_exporter": "python",
   "pygments_lexer": "ipython2",
   "version": "2.7.10"
  }
 },
 "nbformat": 4,
 "nbformat_minor": 1
}
