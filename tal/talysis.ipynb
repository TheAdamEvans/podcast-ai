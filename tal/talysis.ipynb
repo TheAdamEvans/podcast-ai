{
 "cells": [
  {
   "cell_type": "code",
   "execution_count": 1,
   "metadata": {
    "collapsed": true
   },
   "outputs": [],
   "source": [
    "%matplotlib inline"
   ]
  },
  {
   "cell_type": "code",
   "execution_count": 2,
   "metadata": {
    "collapsed": true
   },
   "outputs": [],
   "source": [
    "import os\n",
    "import pickle\n",
    "import pandas as pd"
   ]
  },
  {
   "cell_type": "code",
   "execution_count": 3,
   "metadata": {
    "collapsed": true
   },
   "outputs": [],
   "source": [
    "DATA_DIR = '/Users/adam/audio/data/'\n",
    "SOUND_DIR = '/Users/adam/audio/sound/'"
   ]
  },
  {
   "cell_type": "code",
   "execution_count": 4,
   "metadata": {
    "collapsed": true
   },
   "outputs": [],
   "source": [
    "def combine_pickle(DATA_DIR):\n",
    "    \"\"\" Combines directory of pickled episode objects into a single DataFrame \"\"\"\n",
    "    \n",
    "    collect = []\n",
    "    for epi in os.listdir(DATA_DIR):\n",
    "        pkl = '.pickle'\n",
    "        if epi[-len(pkl):] != pkl:\n",
    "            pass\n",
    "        else:\n",
    "            partial = pickle.load(open(DATA_DIR + epi, 'rb'))\n",
    "#             if partial is not None:\n",
    "#                 print 'Found %d segments in %s' % (partial.shape[0], epi)\n",
    "            collect.append(partial)\n",
    "    episode = pd.concat(collect, axis=0)\n",
    "\n",
    "    return episode"
   ]
  },
  {
   "cell_type": "code",
   "execution_count": 5,
   "metadata": {
    "collapsed": false
   },
   "outputs": [],
   "source": [
    "tal = combine_pickle(DATA_DIR)"
   ]
  },
  {
   "cell_type": "code",
   "execution_count": 6,
   "metadata": {
    "collapsed": false
   },
   "outputs": [
    {
     "data": {
      "text/plain": [
       "(148857, 7)"
      ]
     },
     "execution_count": 6,
     "metadata": {},
     "output_type": "execute_result"
    }
   ],
   "source": [
    "tal.shape"
   ]
  },
  {
   "cell_type": "code",
   "execution_count": 7,
   "metadata": {
    "collapsed": true
   },
   "outputs": [],
   "source": [
    "# already_gotten = os.listdir(SOUND_DIR)\n",
    "# print already_gotten"
   ]
  },
  {
   "cell_type": "code",
   "execution_count": 8,
   "metadata": {
    "collapsed": false
   },
   "outputs": [
    {
     "data": {
      "text/plain": [
       "89                 Then it's time to go to the wedding.\n",
       "90    The week passes and we take a train overnight ...\n",
       "91                                              Modena.\n",
       "92    To Modena. Excuse me. But we get to Modena, an...\n",
       "93    Because I knew that as soon as we got back to ...\n",
       "94    So her friend lives like-- we thought she live...\n",
       "95                                           Formigene.\n",
       "96    Formigene. And she drops us there with her non...\n",
       "97    And then she cancels the wedding. And she deci...\n",
       "98                                  It wasn't that bad.\n",
       "Name: text, dtype: object"
      ]
     },
     "execution_count": 8,
     "metadata": {},
     "output_type": "execute_result"
    }
   ],
   "source": [
    "tal.text[1000:1010]"
   ]
  },
  {
   "cell_type": "code",
   "execution_count": 9,
   "metadata": {
    "collapsed": false
   },
   "outputs": [],
   "source": [
    "import sklearn\n",
    "from sklearn.feature_extraction.text import TfidfVectorizer"
   ]
  },
  {
   "cell_type": "code",
   "execution_count": 25,
   "metadata": {
    "collapsed": false
   },
   "outputs": [],
   "source": [
    "segments = tal.text.tolist()\n",
    "tfidf = TfidfVectorizer(segments, min_df=3, stop_words='english')\n",
    "X = tfidf.fit_transform(segments)"
   ]
  },
  {
   "cell_type": "code",
   "execution_count": 26,
   "metadata": {
    "collapsed": false
   },
   "outputs": [
    {
     "data": {
      "text/plain": [
       "(148857, 31118)"
      ]
     },
     "execution_count": 26,
     "metadata": {},
     "output_type": "execute_result"
    }
   ],
   "source": [
    "X.shape"
   ]
  },
  {
   "cell_type": "code",
   "execution_count": 27,
   "metadata": {
    "collapsed": false
   },
   "outputs": [],
   "source": [
    "vocab = tfidf.get_feature_names()\n",
    "# print vocab[-1000:]"
   ]
  },
  {
   "cell_type": "code",
   "execution_count": 28,
   "metadata": {
    "collapsed": false
   },
   "outputs": [
    {
     "name": "stdout",
     "output_type": "stream",
     "text": [
      "<class 'scipy.sparse.csr.csr_matrix'>\n",
      "Vocabulary size 31118\n"
     ]
    }
   ],
   "source": [
    "print type(X)\n",
    "print \"Vocabulary size\", len(vocab)"
   ]
  },
  {
   "cell_type": "code",
   "execution_count": 29,
   "metadata": {
    "collapsed": false
   },
   "outputs": [],
   "source": [
    "vocab_sum = X.sum(axis = 0)\n",
    "vocab_counts = pd.Series(vocab_sum.tolist()[0])\n",
    "\n",
    "import numpy as np\n",
    "log_vocab_counts = np.log(vocab_counts)\n",
    "\n"
   ]
  },
  {
   "cell_type": "code",
   "execution_count": 30,
   "metadata": {
    "collapsed": false
   },
   "outputs": [
    {
     "data": {
      "text/plain": [
       "<matplotlib.axes._subplots.AxesSubplot at 0x111aea390>"
      ]
     },
     "execution_count": 30,
     "metadata": {},
     "output_type": "execute_result"
    },
    {
     "data": {
      "image/png": "[encoded data removed]",
      "text/plain": [
       "<matplotlib.figure.Figure at 0x111aea310>"
      ]
     },
     "metadata": {},
     "output_type": "display_data"
    }
   ],
   "source": [
    "log_vocab_counts.hist()"
   ]
  },
  {
   "cell_type": "code",
   "execution_count": 31,
   "metadata": {
    "collapsed": true
   },
   "outputs": [],
   "source": [
    "from sklearn.decomposition import NMF\n",
    "\n",
    "def print_top_words(model, feature_names, n_top_words):\n",
    "    for topic_idx, topic in enumerate(model.components_):\n",
    "        print(\"Topic #%d:\" % topic_idx)\n",
    "        print(\" \".join([feature_names[i]\n",
    "                        for i in topic.argsort()[:-n_top_words - 1:-1]]))\n",
    "    print()\n",
    "    "
   ]
  },
  {
   "cell_type": "code",
   "execution_count": 38,
   "metadata": {
    "collapsed": true
   },
   "outputs": [],
   "source": [
    "n_samples = 2000\n",
    "n_features = 1000\n",
    "n_topics = 15\n",
    "n_top_words = 25"
   ]
  },
  {
   "cell_type": "code",
   "execution_count": 39,
   "metadata": {
    "collapsed": false
   },
   "outputs": [
    {
     "name": "stdout",
     "output_type": "stream",
     "text": [
      "Fitting the NMF model with tf-idf features,n_samples=2000 and n_features=1000...\n",
      "\n",
      "Topics in NMF model:\n",
      "Topic #0:\n",
      "yeah sure mean exactly course definitely absolutely guess laughs got probably lot ll sort let remember good true hear totally funny bit great basically kind\n",
      "Topic #1:\n",
      "just let little thought didn kind wanted saying mean couldn sort ll wasn sitting maybe remember want away thing thinking trying talking stop started stuff\n",
      "Topic #2:\n",
      "radio public american international life ira glass stories week pri program distributed chicago wbez today theme continues minute act coming torey malatia oversight management choose\n",
      "Topic #3:\n",
      "speaking arabic spanish tigrinya foreign language japanese hebrew chinese french greek polish dari pashto korean portuguese krio german vietnamese khmer english farsi singing yiddish inuit\n",
      "Topic #4:\n",
      "yes sir said course exactly definitely absolutely sure says laughs probably answer ma help actually available fact helfinger uh tell hello true told does hi\n",
      "Topic #5:\n",
      "right let exactly doing ll away wrong thing got need left wait guys stop look man hand guess laughs place moment point sitting car true\n",
      "Topic #6:\n",
      "laughter applause audience raucous studio fake foreign language cheering luxury laugh mean cheers apology evil hero confident funny basically hesitant kidding jealin wake tough oops\n",
      "Topic #7:\n",
      "know don want mean didn need feel understand believe remember care saying worry maybe sure doesn talk guess ve anymore tell anybody love ll talking\n",
      "Topic #8:\n",
      "like feel mean look kind felt looks sounds does stuff thing little things guy sort feels people lot looked doing doesn sound way feeling talking\n",
      "Topic #9:\n",
      "did feel tell know ask long make asked happen actually work hear didn wrong knew end guys happened come mean learn went told wanted talk\n",
      "Topic #10:\n",
      "oh god really gosh wow thank man absolutely boy sorry nice good sure said come uh laughs wait lord goes goodness look great hi thought\n",
      "Topic #11:\n",
      "going really said people time got didn ve want good way come tell day things thing told years thought lot little says make kind doing\n",
      "Topic #12:\n",
      "say want ll didn people let sorry does thing hi mean word ask look words says wouldn things somebody hear probably goodbye wait usually point\n",
      "Topic #13:\n",
      "ok let ll going ready good thank bye talk want guys cool doing hear thanks saying hold ask need tape said number sure stop fine\n",
      "Topic #14:\n",
      "think don people ll maybe probably lot kind way mean thing things actually doing good life better didn doesn sort makes thought true hard wrong\n",
      "()\n"
     ]
    }
   ],
   "source": [
    "# Fit the NMF model\n",
    "print(\"Fitting the NMF model with tf-idf features,\"\n",
    "      \"n_samples=%d and n_features=%d...\"\n",
    "      % (n_samples, n_features))\n",
    "nmf = NMF(n_components=n_topics, random_state=1, alpha=.1, l1_ratio=.5)\n",
    "T = nmf.fit(X)\n",
    "\n",
    "print(\"\\nTopics in NMF model:\")\n",
    "vocab = tfidf.get_feature_names()\n",
    "print_top_words(T, vocab, n_top_words)"
   ]
  },
  {
   "cell_type": "code",
   "execution_count": 42,
   "metadata": {
    "collapsed": false
   },
   "outputs": [],
   "source": [
    "fiteed = nmf.fit_transform(X)"
   ]
  },
  {
   "cell_type": "code",
   "execution_count": 43,
   "metadata": {
    "collapsed": false
   },
   "outputs": [
    {
     "data": {
      "text/plain": [
       "(148857, 15)"
      ]
     },
     "execution_count": 43,
     "metadata": {},
     "output_type": "execute_result"
    }
   ],
   "source": [
    "fiteed.shape"
   ]
  },
  {
   "cell_type": "code",
   "execution_count": 54,
   "metadata": {
    "collapsed": true
   },
   "outputs": [],
   "source": [
    "extreme = fiteed.max(axis=0)"
   ]
  },
  {
   "cell_type": "code",
   "execution_count": 60,
   "metadata": {
    "collapsed": false
   },
   "outputs": [
    {
     "data": {
      "text/plain": [
       "array([ 0.07621328,  0.07444339,  0.07780048,  0.08887178,  0.09771294,\n",
       "        0.08228211,  0.11879459,  0.06959442,  0.06927793,  0.08530194,\n",
       "        0.09122244,  0.03311535,  0.0893223 ,  0.09312152,  0.08306193])"
      ]
     },
     "execution_count": 60,
     "metadata": {},
     "output_type": "execute_result"
    }
   ],
   "source": [
    "extreme"
   ]
  },
  {
   "cell_type": "code",
   "execution_count": 82,
   "metadata": {
    "collapsed": false
   },
   "outputs": [
    {
     "data": {
      "text/html": [
       "<div>\n",
       "<table border=\"1\" class=\"dataframe\">\n",
       "  <thead>\n",
       "    <tr style=\"text-align: right;\">\n",
       "      <th></th>\n",
       "      <th>episode_number</th>\n",
       "      <th>title</th>\n",
       "      <th>act_type</th>\n",
       "      <th>speaker_name</th>\n",
       "      <th>speaker_class</th>\n",
       "      <th>begin</th>\n",
       "      <th>text</th>\n",
       "    </tr>\n",
       "  </thead>\n",
       "  <tbody>\n",
       "    <tr>\n",
       "      <th>45</th>\n",
       "      <td>553</td>\n",
       "      <td>Stuck In The Middle (2015)</td>\n",
       "      <td>prologue</td>\n",
       "      <td>Rachel</td>\n",
       "      <td>subject</td>\n",
       "      <td>00:06:09.96</td>\n",
       "      <td>But what are  you really going to do?</td>\n",
       "    </tr>\n",
       "  </tbody>\n",
       "</table>\n",
       "</div>"
      ],
      "text/plain": [
       "   episode_number                       title  act_type speaker_name  \\\n",
       "45            553  Stuck In The Middle (2015)  prologue       Rachel   \n",
       "\n",
       "   speaker_class        begin                                   text  \n",
       "45       subject  00:06:09.96  But what are  you really going to do?  "
      ]
     },
     "execution_count": 82,
     "metadata": {},
     "output_type": "execute_result"
    }
   ],
   "source": [
    "topic = 11\n",
    "tal[(fiteed[0:,topic] == extreme[topic])]"
   ]
  },
  {
   "cell_type": "code",
   "execution_count": null,
   "metadata": {
    "collapsed": true
   },
   "outputs": [],
   "source": []
  }
 ],
 "metadata": {
  "kernelspec": {
   "display_name": "Python 2",
   "language": "python",
   "name": "python2"
  },
  "language_info": {
   "codemirror_mode": {
    "name": "ipython",
    "version": 2
   },
   "file_extension": ".py",
   "mimetype": "text/x-python",
   "name": "python",
   "nbconvert_exporter": "python",
   "pygments_lexer": "ipython2",
   "version": "2.7.10"
  }
 },
 "nbformat": 4,
 "nbformat_minor": 1
}
