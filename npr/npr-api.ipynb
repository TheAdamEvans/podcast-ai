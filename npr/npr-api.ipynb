{
 "cells": [
  {
   "cell_type": "code",
   "execution_count": 15,
   "metadata": {
    "collapsed": true
   },
   "outputs": [],
   "source": [
    "from urllib2 import urlopen\n",
    "from json import load\n",
    "import re\n",
    "import pandas as pd"
   ]
  },
  {
   "cell_type": "code",
   "execution_count": 16,
   "metadata": {
    "collapsed": true
   },
   "outputs": [],
   "source": [
    "transcriptRE = re.compile('storyId=(\\d+)')\n",
    "mp3RE = re.compile('\\.mp3\\?')"
   ]
  },
  {
   "cell_type": "code",
   "execution_count": 17,
   "metadata": {
    "collapsed": false
   },
   "outputs": [],
   "source": [
    "def find_transcript_link(stories):\n",
    "    if 'transcript' in stories.keys():\n",
    "        transcript_text = stories['transcript']['link'][0]['$text']\n",
    "        end_transcript_url = transcriptRE.search(transcript_text).end()\n",
    "        transcript_link = transcript_text[:end_transcript_url]\n",
    "        return transcript_link"
   ]
  },
  {
   "cell_type": "code",
   "execution_count": 18,
   "metadata": {
    "collapsed": false
   },
   "outputs": [],
   "source": [
    "def find_mp3_link(stories):\n",
    "    if 'audio' in stories.keys():\n",
    "        audio = stories['audio'][0]['format']\n",
    "        if 'mp3' in audio.keys():\n",
    "            mp3_text = ['mp3'][0]['$text']\n",
    "            end_mp3_url = mp3RE.search(mp3_text).end() - 1\n",
    "            mp3_link = mp3_text[:end_mp3_url]\n",
    "            return mp3_link"
   ]
  },
  {
   "cell_type": "code",
   "execution_count": 19,
   "metadata": {
    "collapsed": true
   },
   "outputs": [],
   "source": [
    "def find_byline_name(story):\n",
    "    if 'byline' in story.keys():\n",
    "        byline = story['byline'][0]\n",
    "        if 'name' in byline.keys():\n",
    "            person_name = byline['name']['$text']"
   ]
  },
  {
   "cell_type": "code",
   "execution_count": 20,
   "metadata": {
    "collapsed": false
   },
   "outputs": [],
   "source": [
    "def find_byline_id(story):\n",
    "    if 'byline' in story.keys():\n",
    "        byline = story['byline'][0]\n",
    "        if 'name' in byline.keys():\n",
    "            if 'personId' in byline['name'].keys():\n",
    "                person_name = byline['name']['personId']"
   ]
  },
  {
   "cell_type": "code",
   "execution_count": 21,
   "metadata": {
    "collapsed": true
   },
   "outputs": [],
   "source": [
    "def find_program_id(story):\n",
    "    if 'show' in story.keys():\n",
    "        program = story['show'][0]['program']\n",
    "        if 'id' in program.keys():\n",
    "            return program['id']"
   ]
  },
  {
   "cell_type": "code",
   "execution_count": 22,
   "metadata": {
    "collapsed": true
   },
   "outputs": [],
   "source": [
    "def find_program_code(story):\n",
    "    if 'show' in story.keys():\n",
    "        program = story['show'][0]['program']\n",
    "        if 'code' in program.keys():\n",
    "            return program['code']"
   ]
  },
  {
   "cell_type": "code",
   "execution_count": 23,
   "metadata": {
    "collapsed": true
   },
   "outputs": [],
   "source": [
    "def find_program_text(story):\n",
    "    if 'show' in story.keys():\n",
    "        program = story['show'][0]['program']\n",
    "        if '$text' in program.keys():\n",
    "            return program['$text']"
   ]
  },
  {
   "cell_type": "code",
   "execution_count": 24,
   "metadata": {
    "collapsed": true
   },
   "outputs": [],
   "source": [
    "# def find_show(story):\n",
    "#     if 'show' in story.keys():\n",
    "#         program_id = story['show'][0]['program']['id']\n",
    "#         program_code = story['show'][0]['program']['code']\n",
    "#         program_text = story['show'][0]['program']['text']\n",
    "#         return program_id, program_code, program_text"
   ]
  },
  {
   "cell_type": "code",
   "execution_count": 25,
   "metadata": {
    "collapsed": false
   },
   "outputs": [],
   "source": [
    "# base url + the apiKey param\n",
    "url = 'http://api.npr.org/query?&output=JSON&apiKey='\n",
    "key = 'MDI2MDExNjc3MDE0NzE4OTMwOTdmNjA1OA000'\n",
    "fields = '&fields=title,show,byline,text,audio,transcript'\n",
    "requiredAssets = '&requiredAssets=title,byline,audio,transcript'\n",
    "url += key + fields + requiredAssets"
   ]
  },
  {
   "cell_type": "code",
   "execution_count": 26,
   "metadata": {
    "collapsed": false
   },
   "outputs": [],
   "source": [
    "collect = []"
   ]
  },
  {
   "cell_type": "code",
   "execution_count": 27,
   "metadata": {
    "collapsed": false
   },
   "outputs": [
    {
     "name": "stdout",
     "output_type": "stream",
     "text": [
      "RETURNED 20\n"
     ]
    },
    {
     "ename": "TypeError",
     "evalue": "string indices must be integers, not str",
     "output_type": "error",
     "traceback": [
      "\u001b[0;31m---------------------------------------------------------------------------\u001b[0m",
      "\u001b[0;31mTypeError\u001b[0m                                 Traceback (most recent call last)",
      "\u001b[0;32m<ipython-input-27-74bfdbc92bf5>\u001b[0m in \u001b[0;36m<module>\u001b[0;34m()\u001b[0m\n\u001b[1;32m     26\u001b[0m         \u001b[0mtitle\u001b[0m \u001b[0;34m=\u001b[0m \u001b[0mstory\u001b[0m\u001b[0;34m[\u001b[0m\u001b[0;34m'title'\u001b[0m\u001b[0;34m]\u001b[0m\u001b[0;34m[\u001b[0m\u001b[0;34m'$text'\u001b[0m\u001b[0;34m]\u001b[0m\u001b[0;34m\u001b[0m\u001b[0m\n\u001b[1;32m     27\u001b[0m         \u001b[0mtranscript\u001b[0m \u001b[0;34m=\u001b[0m \u001b[0mfind_transcript_link\u001b[0m\u001b[0;34m(\u001b[0m\u001b[0mstory\u001b[0m\u001b[0;34m)\u001b[0m\u001b[0;34m\u001b[0m\u001b[0m\n\u001b[0;32m---> 28\u001b[0;31m         \u001b[0mmp3\u001b[0m \u001b[0;34m=\u001b[0m \u001b[0mfind_mp3_link\u001b[0m\u001b[0;34m(\u001b[0m\u001b[0mstory\u001b[0m\u001b[0;34m)\u001b[0m\u001b[0;34m\u001b[0m\u001b[0m\n\u001b[0m\u001b[1;32m     29\u001b[0m \u001b[0;34m\u001b[0m\u001b[0m\n\u001b[1;32m     30\u001b[0m         \u001b[0mcollect\u001b[0m\u001b[0;34m.\u001b[0m\u001b[0mappend\u001b[0m\u001b[0;34m(\u001b[0m\u001b[0;34m(\u001b[0m\u001b[0mstory_id\u001b[0m\u001b[0;34m,\u001b[0m \u001b[0mbyline_name\u001b[0m\u001b[0;34m,\u001b[0m \u001b[0mbyline_id\u001b[0m\u001b[0;34m,\u001b[0m \u001b[0mprogram_id\u001b[0m\u001b[0;34m,\u001b[0m \u001b[0mprogram_code\u001b[0m\u001b[0;34m,\u001b[0m \u001b[0mprogram_text\u001b[0m\u001b[0;34m,\u001b[0m \u001b[0mtitle\u001b[0m\u001b[0;34m,\u001b[0m \u001b[0mtranscript\u001b[0m\u001b[0;34m,\u001b[0m \u001b[0mmp3\u001b[0m\u001b[0;34m)\u001b[0m\u001b[0;34m)\u001b[0m\u001b[0;34m\u001b[0m\u001b[0m\n",
      "\u001b[0;32m<ipython-input-18-80c0a35e8fa6>\u001b[0m in \u001b[0;36mfind_mp3_link\u001b[0;34m(stories)\u001b[0m\n\u001b[1;32m      3\u001b[0m         \u001b[0maudio\u001b[0m \u001b[0;34m=\u001b[0m \u001b[0mstories\u001b[0m\u001b[0;34m[\u001b[0m\u001b[0;34m'audio'\u001b[0m\u001b[0;34m]\u001b[0m\u001b[0;34m[\u001b[0m\u001b[0;36m0\u001b[0m\u001b[0;34m]\u001b[0m\u001b[0;34m[\u001b[0m\u001b[0;34m'format'\u001b[0m\u001b[0;34m]\u001b[0m\u001b[0;34m\u001b[0m\u001b[0m\n\u001b[1;32m      4\u001b[0m         \u001b[0;32mif\u001b[0m \u001b[0;34m'mp3'\u001b[0m \u001b[0;32min\u001b[0m \u001b[0maudio\u001b[0m\u001b[0;34m.\u001b[0m\u001b[0mkeys\u001b[0m\u001b[0;34m(\u001b[0m\u001b[0;34m)\u001b[0m\u001b[0;34m:\u001b[0m\u001b[0;34m\u001b[0m\u001b[0m\n\u001b[0;32m----> 5\u001b[0;31m             \u001b[0mmp3_text\u001b[0m \u001b[0;34m=\u001b[0m \u001b[0;34m[\u001b[0m\u001b[0;34m'mp3'\u001b[0m\u001b[0;34m]\u001b[0m\u001b[0;34m[\u001b[0m\u001b[0;36m0\u001b[0m\u001b[0;34m]\u001b[0m\u001b[0;34m[\u001b[0m\u001b[0;34m'$text'\u001b[0m\u001b[0;34m]\u001b[0m\u001b[0;34m\u001b[0m\u001b[0m\n\u001b[0m\u001b[1;32m      6\u001b[0m             \u001b[0mend_mp3_url\u001b[0m \u001b[0;34m=\u001b[0m \u001b[0mmp3RE\u001b[0m\u001b[0;34m.\u001b[0m\u001b[0msearch\u001b[0m\u001b[0;34m(\u001b[0m\u001b[0mmp3_text\u001b[0m\u001b[0;34m)\u001b[0m\u001b[0;34m.\u001b[0m\u001b[0mend\u001b[0m\u001b[0;34m(\u001b[0m\u001b[0;34m)\u001b[0m \u001b[0;34m-\u001b[0m \u001b[0;36m1\u001b[0m\u001b[0;34m\u001b[0m\u001b[0m\n\u001b[1;32m      7\u001b[0m             \u001b[0mmp3_link\u001b[0m \u001b[0;34m=\u001b[0m \u001b[0mmp3_text\u001b[0m\u001b[0;34m[\u001b[0m\u001b[0;34m:\u001b[0m\u001b[0mend_mp3_url\u001b[0m\u001b[0;34m]\u001b[0m\u001b[0;34m\u001b[0m\u001b[0m\n",
      "\u001b[0;31mTypeError\u001b[0m: string indices must be integers, not str"
     ]
    }
   ],
   "source": [
    "iteration = 0\n",
    "numResults = 20\n",
    "returned_story_count = numResults\n",
    "\n",
    "while returned_story_count == numResults:\n",
    "    \n",
    "    # keep track of how far back we go\n",
    "    startNum = iteration * numResults + 1\n",
    "    url = url + '&numResults=' + str(numResults) + '&startNum=' + str(startNum)\n",
    "    \n",
    "    # open our url, load the JSON\n",
    "    response = urlopen(url)\n",
    "    json_obj = load(response)\n",
    "    returned_story_count = len(json_obj['list']['story'])\n",
    "    print \"RETURNED\", returned_story_count\n",
    "    \n",
    "    ## CHECK returned_story_count\n",
    "    \n",
    "    for story in json_obj['list']['story']:\n",
    "        story_id = story['id']\n",
    "        byline_name = find_byline_name(story)\n",
    "        byline_id = find_byline_id(story)\n",
    "        program_id = find_program_id(story)\n",
    "        program_code = find_program_code(story)\n",
    "        program_text = find_program_text(story)\n",
    "        title = story['title']['$text']\n",
    "        transcript = find_transcript_link(story)\n",
    "        mp3 = find_mp3_link(story)\n",
    "        \n",
    "        collect.append((story_id, byline_name, byline_id, program_id, program_code, program_text, title, transcript, mp3))\n",
    "    \n",
    "    iteration += 1\n",
    "    if iteration > 1:\n",
    "        break"
   ]
  },
  {
   "cell_type": "code",
   "execution_count": null,
   "metadata": {
    "collapsed": false
   },
   "outputs": [],
   "source": [
    "# story['byline'][0]['name']"
   ]
  },
  {
   "cell_type": "code",
   "execution_count": 14,
   "metadata": {
    "collapsed": false
   },
   "outputs": [
    {
     "name": "stdout",
     "output_type": "stream",
     "text": [
      "Robin Hilton\n",
      "['personId']\n"
     ]
    }
   ],
   "source": [
    "print story['byline'][0]['name']['$text']\n",
    "print ['personId']"
   ]
  },
  {
   "cell_type": "code",
   "execution_count": 26,
   "metadata": {
    "collapsed": true
   },
   "outputs": [],
   "source": [
    "npr = pd.DataFrame.from_records(collect, columns=['story_id', 'byline_name', 'byline_id', 'program_id', 'program_code', 'program_text', 'title', 'transcript', 'mp3'])"
   ]
  },
  {
   "cell_type": "code",
   "execution_count": 36,
   "metadata": {
    "collapsed": false
   },
   "outputs": [],
   "source": [
    "npr_complete = npr[npr['transcript'].notnull() & npr['mp3'].notnull()]"
   ]
  },
  {
   "cell_type": "code",
   "execution_count": 38,
   "metadata": {
    "collapsed": false
   },
   "outputs": [
    {
     "data": {
      "text/plain": [
       "u'https://ondemand.npr.org/anon.npr-mp3/npr/atc/2016/09/20160905_atc_new_us_open.mp3'"
      ]
     },
     "execution_count": 38,
     "metadata": {},
     "output_type": "execute_result"
    }
   ],
   "source": [
    "# npr_complete['transcript'][0]\n",
    "npr_complete['mp3'][0]"
   ]
  },
  {
   "cell_type": "code",
   "execution_count": 35,
   "metadata": {
    "collapsed": false
   },
   "outputs": [
    {
     "name": "stdout",
     "output_type": "stream",
     "text": [
      "http://www.npr.org/templates/transcript/transcript.php?storyId=492674834\n",
      "https://ondemand.npr.org/anon.npr-mp3/npr/me/2016/09/20160905_me_german_chancellor_merkels_party_has_a_poor_showing_in_her_home_state_election.mp3\n"
     ]
    }
   ],
   "source": [
    "#npr.index = npr['story_id']\n",
    "print npr.loc['492674834']['transcript']\n",
    "print npr.loc['492674834']['mp3']"
   ]
  },
  {
   "cell_type": "code",
   "execution_count": 40,
   "metadata": {
    "collapsed": false
   },
   "outputs": [],
   "source": [
    "response = urlopen(npr.loc['492674834']['mp3'])\n",
    "m = response.read()"
   ]
  },
  {
   "cell_type": "code",
   "execution_count": null,
   "metadata": {
    "collapsed": true
   },
   "outputs": [],
   "source": []
  },
  {
   "cell_type": "code",
   "execution_count": null,
   "metadata": {
    "collapsed": true
   },
   "outputs": [],
   "source": []
  },
  {
   "cell_type": "code",
   "execution_count": 37,
   "metadata": {
    "collapsed": false
   },
   "outputs": [
    {
     "data": {
      "text/plain": [
       "(40, 7)"
      ]
     },
     "execution_count": 37,
     "metadata": {},
     "output_type": "execute_result"
    }
   ],
   "source": [
    "npr.shape"
   ]
  },
  {
   "cell_type": "code",
   "execution_count": 38,
   "metadata": {
    "collapsed": false
   },
   "outputs": [
    {
     "data": {
      "text/html": [
       "<div>\n",
       "<table border=\"1\" class=\"dataframe\">\n",
       "  <thead>\n",
       "    <tr style=\"text-align: right;\">\n",
       "      <th></th>\n",
       "      <th>story_id</th>\n",
       "      <th>program_id</th>\n",
       "      <th>program_code</th>\n",
       "      <th>program_text</th>\n",
       "      <th>title</th>\n",
       "      <th>transcript</th>\n",
       "      <th>mp3</th>\n",
       "    </tr>\n",
       "  </thead>\n",
       "  <tbody>\n",
       "    <tr>\n",
       "      <th>0</th>\n",
       "      <td>492305430</td>\n",
       "      <td>None</td>\n",
       "      <td>None</td>\n",
       "      <td>None</td>\n",
       "      <td>The Perils of Power</td>\n",
       "      <td>None</td>\n",
       "      <td>http://play.podtrac.com/npr-510308/ondemand.np...</td>\n",
       "    </tr>\n",
       "    <tr>\n",
       "      <th>1</th>\n",
       "      <td>492742613</td>\n",
       "      <td>2</td>\n",
       "      <td>ATC</td>\n",
       "      <td>None</td>\n",
       "      <td>Venus Williams Knocked Out Of U.S. Open After ...</td>\n",
       "      <td>http://www.npr.org/templates/transcript/transc...</td>\n",
       "      <td>https://ondemand.npr.org/anon.npr-mp3/npr/atc/...</td>\n",
       "    </tr>\n",
       "    <tr>\n",
       "      <th>2</th>\n",
       "      <td>492742484</td>\n",
       "      <td>2</td>\n",
       "      <td>ATC</td>\n",
       "      <td>None</td>\n",
       "      <td>Trump, Clinton Mix Things Up On The Campaign T...</td>\n",
       "      <td>http://www.npr.org/templates/transcript/transc...</td>\n",
       "      <td>https://ondemand.npr.org/anon.npr-mp3/npr/atc/...</td>\n",
       "    </tr>\n",
       "    <tr>\n",
       "      <th>3</th>\n",
       "      <td>492727633</td>\n",
       "      <td>2</td>\n",
       "      <td>ATC</td>\n",
       "      <td>None</td>\n",
       "      <td>Truck Drivers Block Highway Near Calais, Franc...</td>\n",
       "      <td>http://www.npr.org/templates/transcript/transc...</td>\n",
       "      <td>https://ondemand.npr.org/anon.npr-mp3/npr/atc/...</td>\n",
       "    </tr>\n",
       "    <tr>\n",
       "      <th>4</th>\n",
       "      <td>492727626</td>\n",
       "      <td>2</td>\n",
       "      <td>ATC</td>\n",
       "      <td>None</td>\n",
       "      <td>Hollywood Offers New Batch Of Likely Awards Co...</td>\n",
       "      <td>http://www.npr.org/templates/transcript/transc...</td>\n",
       "      <td>https://ondemand.npr.org/anon.npr-mp3/npr/atc/...</td>\n",
       "    </tr>\n",
       "    <tr>\n",
       "      <th>5</th>\n",
       "      <td>492727619</td>\n",
       "      <td>2</td>\n",
       "      <td>ATC</td>\n",
       "      <td>None</td>\n",
       "      <td>U.S. Open Quarterfinals Set To Begin In New York</td>\n",
       "      <td>http://www.npr.org/templates/transcript/transc...</td>\n",
       "      <td>https://ondemand.npr.org/anon.npr-mp3/npr/atc/...</td>\n",
       "    </tr>\n",
       "    <tr>\n",
       "      <th>6</th>\n",
       "      <td>492727612</td>\n",
       "      <td>2</td>\n",
       "      <td>ATC</td>\n",
       "      <td>None</td>\n",
       "      <td>Missing Boy's Remains Found Nearly 27 Years Af...</td>\n",
       "      <td>http://www.npr.org/templates/transcript/transc...</td>\n",
       "      <td>https://ondemand.npr.org/anon.npr-mp3/npr/atc/...</td>\n",
       "    </tr>\n",
       "    <tr>\n",
       "      <th>7</th>\n",
       "      <td>492727605</td>\n",
       "      <td>2</td>\n",
       "      <td>ATC</td>\n",
       "      <td>None</td>\n",
       "      <td>Trump, Clinton Make Pitches To Working Class V...</td>\n",
       "      <td>http://www.npr.org/templates/transcript/transc...</td>\n",
       "      <td>https://ondemand.npr.org/anon.npr-mp3/npr/atc/...</td>\n",
       "    </tr>\n",
       "    <tr>\n",
       "      <th>8</th>\n",
       "      <td>492727598</td>\n",
       "      <td>2</td>\n",
       "      <td>ATC</td>\n",
       "      <td>None</td>\n",
       "      <td>White House Proposes Loosening Restrictions Fo...</td>\n",
       "      <td>http://www.npr.org/templates/transcript/transc...</td>\n",
       "      <td>https://ondemand.npr.org/anon.npr-mp3/npr/atc/...</td>\n",
       "    </tr>\n",
       "    <tr>\n",
       "      <th>9</th>\n",
       "      <td>492727591</td>\n",
       "      <td>2</td>\n",
       "      <td>ATC</td>\n",
       "      <td>None</td>\n",
       "      <td>Lithuania Welcomes Migrants, But Few Want To Come</td>\n",
       "      <td>http://www.npr.org/templates/transcript/transc...</td>\n",
       "      <td>https://ondemand.npr.org/anon.npr-mp3/npr/atc/...</td>\n",
       "    </tr>\n",
       "    <tr>\n",
       "      <th>10</th>\n",
       "      <td>492727584</td>\n",
       "      <td>2</td>\n",
       "      <td>ATC</td>\n",
       "      <td>None</td>\n",
       "      <td>Clinton Promises To Help Create Manufacturing ...</td>\n",
       "      <td>http://www.npr.org/templates/transcript/transc...</td>\n",
       "      <td>https://ondemand.npr.org/anon.npr-mp3/npr/atc/...</td>\n",
       "    </tr>\n",
       "    <tr>\n",
       "      <th>11</th>\n",
       "      <td>492727577</td>\n",
       "      <td>2</td>\n",
       "      <td>ATC</td>\n",
       "      <td>None</td>\n",
       "      <td>Soul Band St. Paul And The Broken Bones Return...</td>\n",
       "      <td>http://www.npr.org/templates/transcript/transc...</td>\n",
       "      <td>https://ondemand.npr.org/anon.npr-mp3/npr/atc/...</td>\n",
       "    </tr>\n",
       "    <tr>\n",
       "      <th>12</th>\n",
       "      <td>492727566</td>\n",
       "      <td>2</td>\n",
       "      <td>ATC</td>\n",
       "      <td>None</td>\n",
       "      <td>Scientists Explore Purple Microbial Mats In Th...</td>\n",
       "      <td>http://www.npr.org/templates/transcript/transc...</td>\n",
       "      <td>https://ondemand.npr.org/anon.npr-mp3/npr/atc/...</td>\n",
       "    </tr>\n",
       "    <tr>\n",
       "      <th>13</th>\n",
       "      <td>492727556</td>\n",
       "      <td>2</td>\n",
       "      <td>ATC</td>\n",
       "      <td>None</td>\n",
       "      <td>Longtime NPR Commentator Vertamae Grosvenor Di...</td>\n",
       "      <td>http://www.npr.org/templates/transcript/transc...</td>\n",
       "      <td>https://ondemand.npr.org/anon.npr-mp3/npr/atc/...</td>\n",
       "    </tr>\n",
       "    <tr>\n",
       "      <th>14</th>\n",
       "      <td>492727547</td>\n",
       "      <td>2</td>\n",
       "      <td>ATC</td>\n",
       "      <td>None</td>\n",
       "      <td>G-20 Summit Highlights Step Forward For U.S., ...</td>\n",
       "      <td>http://www.npr.org/templates/transcript/transc...</td>\n",
       "      <td>https://ondemand.npr.org/anon.npr-mp3/npr/atc/...</td>\n",
       "    </tr>\n",
       "    <tr>\n",
       "      <th>15</th>\n",
       "      <td>492727540</td>\n",
       "      <td>2</td>\n",
       "      <td>ATC</td>\n",
       "      <td>None</td>\n",
       "      <td>President Obama Wraps Up G-20 Summit In Hangzh...</td>\n",
       "      <td>http://www.npr.org/templates/transcript/transc...</td>\n",
       "      <td>https://ondemand.npr.org/anon.npr-mp3/npr/atc/...</td>\n",
       "    </tr>\n",
       "    <tr>\n",
       "      <th>16</th>\n",
       "      <td>492413673</td>\n",
       "      <td>2</td>\n",
       "      <td>ATC</td>\n",
       "      <td>None</td>\n",
       "      <td>QWERTY Traveled From Typewriter To iPhone, But...</td>\n",
       "      <td>http://www.npr.org/templates/transcript/transc...</td>\n",
       "      <td>https://ondemand.npr.org/anon.npr-mp3/npr/atc/...</td>\n",
       "    </tr>\n",
       "    <tr>\n",
       "      <th>17</th>\n",
       "      <td>492259757</td>\n",
       "      <td>2</td>\n",
       "      <td>ATC</td>\n",
       "      <td>None</td>\n",
       "      <td>Marijuana's Mainstream Move Triggers Different...</td>\n",
       "      <td>http://www.npr.org/templates/transcript/transc...</td>\n",
       "      <td>https://ondemand.npr.org/anon.npr-mp3/npr/atc/...</td>\n",
       "    </tr>\n",
       "    <tr>\n",
       "      <th>18</th>\n",
       "      <td>492727647</td>\n",
       "      <td>2</td>\n",
       "      <td>ATC</td>\n",
       "      <td>None</td>\n",
       "      <td>Encore: In Omaha, A Library Without Books Offe...</td>\n",
       "      <td>http://www.npr.org/templates/transcript/transc...</td>\n",
       "      <td>https://ondemand.npr.org/anon.npr-mp3/npr/atc/...</td>\n",
       "    </tr>\n",
       "    <tr>\n",
       "      <th>19</th>\n",
       "      <td>492727640</td>\n",
       "      <td>2</td>\n",
       "      <td>ATC</td>\n",
       "      <td>None</td>\n",
       "      <td>Mentoring Program Works To Prevent Radicalizat...</td>\n",
       "      <td>http://www.npr.org/templates/transcript/transc...</td>\n",
       "      <td>https://ondemand.npr.org/anon.npr-mp3/npr/atc/...</td>\n",
       "    </tr>\n",
       "    <tr>\n",
       "      <th>20</th>\n",
       "      <td>492722711</td>\n",
       "      <td>60</td>\n",
       "      <td>HAN</td>\n",
       "      <td>None</td>\n",
       "      <td>Eco-Culinary Retreat Off Maine Coast Showcases...</td>\n",
       "      <td>None</td>\n",
       "      <td>http://pd.npr.org/anon.npr-mp3/wbur/media/2016...</td>\n",
       "    </tr>\n",
       "    <tr>\n",
       "      <th>21</th>\n",
       "      <td>492723043</td>\n",
       "      <td>60</td>\n",
       "      <td>HAN</td>\n",
       "      <td>None</td>\n",
       "      <td>In New York, American Muslims Grieve 9/11 Atta...</td>\n",
       "      <td>None</td>\n",
       "      <td>http://pd.npr.org/anon.npr-mp3/wbur/media/2016...</td>\n",
       "    </tr>\n",
       "    <tr>\n",
       "      <th>22</th>\n",
       "      <td>492722694</td>\n",
       "      <td>60</td>\n",
       "      <td>HAN</td>\n",
       "      <td>None</td>\n",
       "      <td>The Case For Working Longer In Life</td>\n",
       "      <td>None</td>\n",
       "      <td>http://pd.npr.org/anon.npr-mp3/wbur/media/2016...</td>\n",
       "    </tr>\n",
       "    <tr>\n",
       "      <th>23</th>\n",
       "      <td>488686198</td>\n",
       "      <td>2</td>\n",
       "      <td>ATC</td>\n",
       "      <td>None</td>\n",
       "      <td>Why Your Facebook Habit At Work Makes Economis...</td>\n",
       "      <td>http://www.npr.org/templates/transcript/transc...</td>\n",
       "      <td>https://ondemand.npr.org/anon.npr-mp3/npr/atc/...</td>\n",
       "    </tr>\n",
       "    <tr>\n",
       "      <th>24</th>\n",
       "      <td>492722665</td>\n",
       "      <td>60</td>\n",
       "      <td>HAN</td>\n",
       "      <td>None</td>\n",
       "      <td>'Unslut,' An Online Project-Turned-Book, Takes...</td>\n",
       "      <td>None</td>\n",
       "      <td>http://pd.npr.org/anon.npr-mp3/wbur/media/2016...</td>\n",
       "    </tr>\n",
       "    <tr>\n",
       "      <th>25</th>\n",
       "      <td>492326321</td>\n",
       "      <td>13</td>\n",
       "      <td>FA</td>\n",
       "      <td>None</td>\n",
       "      <td>Soul Singer Sharon Jones: 'The Cancer Is Here,...</td>\n",
       "      <td>http://www.npr.org/templates/transcript/transc...</td>\n",
       "      <td>https://ondemand.npr.org/anon.npr-mp3/npr/fa/2...</td>\n",
       "    </tr>\n",
       "    <tr>\n",
       "      <th>26</th>\n",
       "      <td>492722631</td>\n",
       "      <td>60</td>\n",
       "      <td>HAN</td>\n",
       "      <td>None</td>\n",
       "      <td>Harvard Considers Reinstating Physical Educati...</td>\n",
       "      <td>None</td>\n",
       "      <td>http://pd.npr.org/anon.npr-mp3/wbur/media/2016...</td>\n",
       "    </tr>\n",
       "    <tr>\n",
       "      <th>27</th>\n",
       "      <td>492723534</td>\n",
       "      <td>60</td>\n",
       "      <td>HAN</td>\n",
       "      <td>None</td>\n",
       "      <td>With First Debate Looming, Trump Aims Message ...</td>\n",
       "      <td>None</td>\n",
       "      <td>http://pd.npr.org/anon.npr-mp3/wbur/media/2016...</td>\n",
       "    </tr>\n",
       "    <tr>\n",
       "      <th>28</th>\n",
       "      <td>492713511</td>\n",
       "      <td>60</td>\n",
       "      <td>HAN</td>\n",
       "      <td>None</td>\n",
       "      <td>Marking Time: A Father And Son Take A Hike</td>\n",
       "      <td>None</td>\n",
       "      <td>http://pd.npr.org/anon.npr-mp3/wbur/media/2016...</td>\n",
       "    </tr>\n",
       "    <tr>\n",
       "      <th>29</th>\n",
       "      <td>492713383</td>\n",
       "      <td>60</td>\n",
       "      <td>HAN</td>\n",
       "      <td>None</td>\n",
       "      <td>What Kind Of Year Has It Been For American Wor...</td>\n",
       "      <td>None</td>\n",
       "      <td>http://pd.npr.org/anon.npr-mp3/wbur/media/2016...</td>\n",
       "    </tr>\n",
       "    <tr>\n",
       "      <th>30</th>\n",
       "      <td>492431877</td>\n",
       "      <td>None</td>\n",
       "      <td>None</td>\n",
       "      <td>None</td>\n",
       "      <td>World Cafe Next: LVL UP</td>\n",
       "      <td>None</td>\n",
       "      <td>https://ondemand.npr.org/anon.npr-mp3/npr/wc/2...</td>\n",
       "    </tr>\n",
       "    <tr>\n",
       "      <th>31</th>\n",
       "      <td>492713424</td>\n",
       "      <td>60</td>\n",
       "      <td>HAN</td>\n",
       "      <td>None</td>\n",
       "      <td>Obama Meets With Putin, Possibly Not With Dute...</td>\n",
       "      <td>None</td>\n",
       "      <td>http://pd.npr.org/anon.npr-mp3/wbur/media/2016...</td>\n",
       "    </tr>\n",
       "    <tr>\n",
       "      <th>32</th>\n",
       "      <td>492278535</td>\n",
       "      <td>2</td>\n",
       "      <td>ATC</td>\n",
       "      <td>None</td>\n",
       "      <td>What's In That Coffee Cabinet? A Delicious Tas...</td>\n",
       "      <td>http://www.npr.org/templates/transcript/transc...</td>\n",
       "      <td>https://ondemand.npr.org/anon.npr-mp3/npr/atc/...</td>\n",
       "    </tr>\n",
       "    <tr>\n",
       "      <th>33</th>\n",
       "      <td>492674841</td>\n",
       "      <td>3</td>\n",
       "      <td>ME</td>\n",
       "      <td>None</td>\n",
       "      <td>Police Are Hot On The Trail Of Ice Cream Thiev...</td>\n",
       "      <td>http://www.npr.org/templates/transcript/transc...</td>\n",
       "      <td>https://ondemand.npr.org/anon.npr-mp3/npr/me/2...</td>\n",
       "    </tr>\n",
       "    <tr>\n",
       "      <th>34</th>\n",
       "      <td>491992134</td>\n",
       "      <td>3</td>\n",
       "      <td>ME</td>\n",
       "      <td>None</td>\n",
       "      <td>Thousand Islands, Two Tales: Who Really Invent...</td>\n",
       "      <td>http://www.npr.org/templates/transcript/transc...</td>\n",
       "      <td>https://ondemand.npr.org/anon.npr-mp3/npr/me/2...</td>\n",
       "    </tr>\n",
       "    <tr>\n",
       "      <th>35</th>\n",
       "      <td>492690109</td>\n",
       "      <td>3</td>\n",
       "      <td>ME</td>\n",
       "      <td>None</td>\n",
       "      <td>Special Coverage: Analysis Of U.S.-China Relat...</td>\n",
       "      <td>http://www.npr.org/templates/transcript/transc...</td>\n",
       "      <td>https://ondemand.npr.org/anon.npr-mp3/npr/me/2...</td>\n",
       "    </tr>\n",
       "    <tr>\n",
       "      <th>36</th>\n",
       "      <td>492674848</td>\n",
       "      <td>3</td>\n",
       "      <td>ME</td>\n",
       "      <td>None</td>\n",
       "      <td>Special Coverge: After The G-20 Summit, Where ...</td>\n",
       "      <td>http://www.npr.org/templates/transcript/transc...</td>\n",
       "      <td>https://ondemand.npr.org/anon.npr-mp3/npr/me/2...</td>\n",
       "    </tr>\n",
       "    <tr>\n",
       "      <th>37</th>\n",
       "      <td>490226345</td>\n",
       "      <td>3</td>\n",
       "      <td>ME</td>\n",
       "      <td>None</td>\n",
       "      <td>Preschool Suspensions Really Happen And That's...</td>\n",
       "      <td>http://www.npr.org/templates/transcript/transc...</td>\n",
       "      <td>https://ondemand.npr.org/anon.npr-mp3/npr/me/2...</td>\n",
       "    </tr>\n",
       "    <tr>\n",
       "      <th>38</th>\n",
       "      <td>492674834</td>\n",
       "      <td>3</td>\n",
       "      <td>ME</td>\n",
       "      <td>None</td>\n",
       "      <td>German Chancellor's Party Has Poor Showing In ...</td>\n",
       "      <td>http://www.npr.org/templates/transcript/transc...</td>\n",
       "      <td>https://ondemand.npr.org/anon.npr-mp3/npr/me/2...</td>\n",
       "    </tr>\n",
       "    <tr>\n",
       "      <th>39</th>\n",
       "      <td>492674827</td>\n",
       "      <td>3</td>\n",
       "      <td>ME</td>\n",
       "      <td>None</td>\n",
       "      <td>Politics In The News: Election Campaigns Kick ...</td>\n",
       "      <td>http://www.npr.org/templates/transcript/transc...</td>\n",
       "      <td>https://ondemand.npr.org/anon.npr-mp3/npr/me/2...</td>\n",
       "    </tr>\n",
       "  </tbody>\n",
       "</table>\n",
       "</div>"
      ],
      "text/plain": [
       "     story_id program_id program_code program_text  \\\n",
       "0   492305430       None         None         None   \n",
       "1   492742613          2          ATC         None   \n",
       "2   492742484          2          ATC         None   \n",
       "3   492727633          2          ATC         None   \n",
       "4   492727626          2          ATC         None   \n",
       "5   492727619          2          ATC         None   \n",
       "6   492727612          2          ATC         None   \n",
       "7   492727605          2          ATC         None   \n",
       "8   492727598          2          ATC         None   \n",
       "9   492727591          2          ATC         None   \n",
       "10  492727584          2          ATC         None   \n",
       "11  492727577          2          ATC         None   \n",
       "12  492727566          2          ATC         None   \n",
       "13  492727556          2          ATC         None   \n",
       "14  492727547          2          ATC         None   \n",
       "15  492727540          2          ATC         None   \n",
       "16  492413673          2          ATC         None   \n",
       "17  492259757          2          ATC         None   \n",
       "18  492727647          2          ATC         None   \n",
       "19  492727640          2          ATC         None   \n",
       "20  492722711         60          HAN         None   \n",
       "21  492723043         60          HAN         None   \n",
       "22  492722694         60          HAN         None   \n",
       "23  488686198          2          ATC         None   \n",
       "24  492722665         60          HAN         None   \n",
       "25  492326321         13           FA         None   \n",
       "26  492722631         60          HAN         None   \n",
       "27  492723534         60          HAN         None   \n",
       "28  492713511         60          HAN         None   \n",
       "29  492713383         60          HAN         None   \n",
       "30  492431877       None         None         None   \n",
       "31  492713424         60          HAN         None   \n",
       "32  492278535          2          ATC         None   \n",
       "33  492674841          3           ME         None   \n",
       "34  491992134          3           ME         None   \n",
       "35  492690109          3           ME         None   \n",
       "36  492674848          3           ME         None   \n",
       "37  490226345          3           ME         None   \n",
       "38  492674834          3           ME         None   \n",
       "39  492674827          3           ME         None   \n",
       "\n",
       "                                                title  \\\n",
       "0                                 The Perils of Power   \n",
       "1   Venus Williams Knocked Out Of U.S. Open After ...   \n",
       "2   Trump, Clinton Mix Things Up On The Campaign T...   \n",
       "3   Truck Drivers Block Highway Near Calais, Franc...   \n",
       "4   Hollywood Offers New Batch Of Likely Awards Co...   \n",
       "5    U.S. Open Quarterfinals Set To Begin In New York   \n",
       "6   Missing Boy's Remains Found Nearly 27 Years Af...   \n",
       "7   Trump, Clinton Make Pitches To Working Class V...   \n",
       "8   White House Proposes Loosening Restrictions Fo...   \n",
       "9   Lithuania Welcomes Migrants, But Few Want To Come   \n",
       "10  Clinton Promises To Help Create Manufacturing ...   \n",
       "11  Soul Band St. Paul And The Broken Bones Return...   \n",
       "12  Scientists Explore Purple Microbial Mats In Th...   \n",
       "13  Longtime NPR Commentator Vertamae Grosvenor Di...   \n",
       "14  G-20 Summit Highlights Step Forward For U.S., ...   \n",
       "15  President Obama Wraps Up G-20 Summit In Hangzh...   \n",
       "16  QWERTY Traveled From Typewriter To iPhone, But...   \n",
       "17  Marijuana's Mainstream Move Triggers Different...   \n",
       "18  Encore: In Omaha, A Library Without Books Offe...   \n",
       "19  Mentoring Program Works To Prevent Radicalizat...   \n",
       "20  Eco-Culinary Retreat Off Maine Coast Showcases...   \n",
       "21  In New York, American Muslims Grieve 9/11 Atta...   \n",
       "22                The Case For Working Longer In Life   \n",
       "23  Why Your Facebook Habit At Work Makes Economis...   \n",
       "24  'Unslut,' An Online Project-Turned-Book, Takes...   \n",
       "25  Soul Singer Sharon Jones: 'The Cancer Is Here,...   \n",
       "26  Harvard Considers Reinstating Physical Educati...   \n",
       "27  With First Debate Looming, Trump Aims Message ...   \n",
       "28         Marking Time: A Father And Son Take A Hike   \n",
       "29  What Kind Of Year Has It Been For American Wor...   \n",
       "30                            World Cafe Next: LVL UP   \n",
       "31  Obama Meets With Putin, Possibly Not With Dute...   \n",
       "32  What's In That Coffee Cabinet? A Delicious Tas...   \n",
       "33  Police Are Hot On The Trail Of Ice Cream Thiev...   \n",
       "34  Thousand Islands, Two Tales: Who Really Invent...   \n",
       "35  Special Coverage: Analysis Of U.S.-China Relat...   \n",
       "36  Special Coverge: After The G-20 Summit, Where ...   \n",
       "37  Preschool Suspensions Really Happen And That's...   \n",
       "38  German Chancellor's Party Has Poor Showing In ...   \n",
       "39  Politics In The News: Election Campaigns Kick ...   \n",
       "\n",
       "                                           transcript  \\\n",
       "0                                                None   \n",
       "1   http://www.npr.org/templates/transcript/transc...   \n",
       "2   http://www.npr.org/templates/transcript/transc...   \n",
       "3   http://www.npr.org/templates/transcript/transc...   \n",
       "4   http://www.npr.org/templates/transcript/transc...   \n",
       "5   http://www.npr.org/templates/transcript/transc...   \n",
       "6   http://www.npr.org/templates/transcript/transc...   \n",
       "7   http://www.npr.org/templates/transcript/transc...   \n",
       "8   http://www.npr.org/templates/transcript/transc...   \n",
       "9   http://www.npr.org/templates/transcript/transc...   \n",
       "10  http://www.npr.org/templates/transcript/transc...   \n",
       "11  http://www.npr.org/templates/transcript/transc...   \n",
       "12  http://www.npr.org/templates/transcript/transc...   \n",
       "13  http://www.npr.org/templates/transcript/transc...   \n",
       "14  http://www.npr.org/templates/transcript/transc...   \n",
       "15  http://www.npr.org/templates/transcript/transc...   \n",
       "16  http://www.npr.org/templates/transcript/transc...   \n",
       "17  http://www.npr.org/templates/transcript/transc...   \n",
       "18  http://www.npr.org/templates/transcript/transc...   \n",
       "19  http://www.npr.org/templates/transcript/transc...   \n",
       "20                                               None   \n",
       "21                                               None   \n",
       "22                                               None   \n",
       "23  http://www.npr.org/templates/transcript/transc...   \n",
       "24                                               None   \n",
       "25  http://www.npr.org/templates/transcript/transc...   \n",
       "26                                               None   \n",
       "27                                               None   \n",
       "28                                               None   \n",
       "29                                               None   \n",
       "30                                               None   \n",
       "31                                               None   \n",
       "32  http://www.npr.org/templates/transcript/transc...   \n",
       "33  http://www.npr.org/templates/transcript/transc...   \n",
       "34  http://www.npr.org/templates/transcript/transc...   \n",
       "35  http://www.npr.org/templates/transcript/transc...   \n",
       "36  http://www.npr.org/templates/transcript/transc...   \n",
       "37  http://www.npr.org/templates/transcript/transc...   \n",
       "38  http://www.npr.org/templates/transcript/transc...   \n",
       "39  http://www.npr.org/templates/transcript/transc...   \n",
       "\n",
       "                                                  mp3  \n",
       "0   http://play.podtrac.com/npr-510308/ondemand.np...  \n",
       "1   https://ondemand.npr.org/anon.npr-mp3/npr/atc/...  \n",
       "2   https://ondemand.npr.org/anon.npr-mp3/npr/atc/...  \n",
       "3   https://ondemand.npr.org/anon.npr-mp3/npr/atc/...  \n",
       "4   https://ondemand.npr.org/anon.npr-mp3/npr/atc/...  \n",
       "5   https://ondemand.npr.org/anon.npr-mp3/npr/atc/...  \n",
       "6   https://ondemand.npr.org/anon.npr-mp3/npr/atc/...  \n",
       "7   https://ondemand.npr.org/anon.npr-mp3/npr/atc/...  \n",
       "8   https://ondemand.npr.org/anon.npr-mp3/npr/atc/...  \n",
       "9   https://ondemand.npr.org/anon.npr-mp3/npr/atc/...  \n",
       "10  https://ondemand.npr.org/anon.npr-mp3/npr/atc/...  \n",
       "11  https://ondemand.npr.org/anon.npr-mp3/npr/atc/...  \n",
       "12  https://ondemand.npr.org/anon.npr-mp3/npr/atc/...  \n",
       "13  https://ondemand.npr.org/anon.npr-mp3/npr/atc/...  \n",
       "14  https://ondemand.npr.org/anon.npr-mp3/npr/atc/...  \n",
       "15  https://ondemand.npr.org/anon.npr-mp3/npr/atc/...  \n",
       "16  https://ondemand.npr.org/anon.npr-mp3/npr/atc/...  \n",
       "17  https://ondemand.npr.org/anon.npr-mp3/npr/atc/...  \n",
       "18  https://ondemand.npr.org/anon.npr-mp3/npr/atc/...  \n",
       "19  https://ondemand.npr.org/anon.npr-mp3/npr/atc/...  \n",
       "20  http://pd.npr.org/anon.npr-mp3/wbur/media/2016...  \n",
       "21  http://pd.npr.org/anon.npr-mp3/wbur/media/2016...  \n",
       "22  http://pd.npr.org/anon.npr-mp3/wbur/media/2016...  \n",
       "23  https://ondemand.npr.org/anon.npr-mp3/npr/atc/...  \n",
       "24  http://pd.npr.org/anon.npr-mp3/wbur/media/2016...  \n",
       "25  https://ondemand.npr.org/anon.npr-mp3/npr/fa/2...  \n",
       "26  http://pd.npr.org/anon.npr-mp3/wbur/media/2016...  \n",
       "27  http://pd.npr.org/anon.npr-mp3/wbur/media/2016...  \n",
       "28  http://pd.npr.org/anon.npr-mp3/wbur/media/2016...  \n",
       "29  http://pd.npr.org/anon.npr-mp3/wbur/media/2016...  \n",
       "30  https://ondemand.npr.org/anon.npr-mp3/npr/wc/2...  \n",
       "31  http://pd.npr.org/anon.npr-mp3/wbur/media/2016...  \n",
       "32  https://ondemand.npr.org/anon.npr-mp3/npr/atc/...  \n",
       "33  https://ondemand.npr.org/anon.npr-mp3/npr/me/2...  \n",
       "34  https://ondemand.npr.org/anon.npr-mp3/npr/me/2...  \n",
       "35  https://ondemand.npr.org/anon.npr-mp3/npr/me/2...  \n",
       "36  https://ondemand.npr.org/anon.npr-mp3/npr/me/2...  \n",
       "37  https://ondemand.npr.org/anon.npr-mp3/npr/me/2...  \n",
       "38  https://ondemand.npr.org/anon.npr-mp3/npr/me/2...  \n",
       "39  https://ondemand.npr.org/anon.npr-mp3/npr/me/2...  "
      ]
     },
     "execution_count": 38,
     "metadata": {},
     "output_type": "execute_result"
    }
   ],
   "source": [
    "npr"
   ]
  },
  {
   "cell_type": "code",
   "execution_count": 16,
   "metadata": {
    "collapsed": false
   },
   "outputs": [
    {
     "data": {
      "text/plain": [
       "[u'show', u'text', u'title', u'link', u'audio', u'transcript', u'id']"
      ]
     },
     "execution_count": 16,
     "metadata": {},
     "output_type": "execute_result"
    }
   ],
   "source": [
    "story.keys()"
   ]
  },
  {
   "cell_type": "code",
   "execution_count": null,
   "metadata": {
    "collapsed": true
   },
   "outputs": [],
   "source": []
  },
  {
   "cell_type": "code",
   "execution_count": null,
   "metadata": {
    "collapsed": true
   },
   "outputs": [],
   "source": []
  },
  {
   "cell_type": "code",
   "execution_count": 41,
   "metadata": {
    "collapsed": false
   },
   "outputs": [
    {
     "data": {
      "text/plain": [
       "20"
      ]
     },
     "execution_count": 41,
     "metadata": {},
     "output_type": "execute_result"
    }
   ],
   "source": [
    "len(json_obj['list']['story'])"
   ]
  },
  {
   "cell_type": "code",
   "execution_count": 54,
   "metadata": {
    "collapsed": false
   },
   "outputs": [
    {
     "data": {
      "text/plain": [
       "{u'audio': [{u'description': {},\n",
       "   u'duration': {u'$text': u'3866'},\n",
       "   u'format': {u'hlsOnDemand': {u'$text': u'http://hls.npr.org/nprhls//npr/invsb/2016/07/20160728_invsb_outsidein/master.m3u8'},\n",
       "    u'mediastream': {u'$text': u'rtmp://flash.npr.org/ondemand/mp3:anon.npr-mp3/npr/invsb/2016/07/20160728_invsb_outsidein.mp3'},\n",
       "    u'mp3': [{u'$text': u'https://ondemand.npr.org/anon.npr-mp3/npr/invsb/2016/07/20160728_invsb_outsidein.mp3?orgId=1&d=3866&p=64&story=487807747&t=progseg&e=485606589&seg=4&ft=nprml&f=64',\n",
       "      u'type': u'mp3'},\n",
       "     {u'$text': u'https://ondemand.npr.org/anon.npr-mp3/npr/invsb/2016/07/20160728_invsb_outsidein.mp3?orgId=1&d=3866&p=64&story=487807747&t=progseg&e=485606589&seg=4&ft=nprml&f=64',\n",
       "      u'type': u'mp3'},\n",
       "     {u'$text': u'http://api.npr.org/m3u/1487807795-6bfa73.m3u?orgId=1&d=3866&p=64&story=487807747&t=progseg&e=485606589&seg=4&ft=nprml&f=64',\n",
       "      u'type': u'm3u'},\n",
       "     {u'$text': u'http://api.npr.org/m3u/8487807795-fa6ee3.m3u?orgId=1&d=3866&p=64&story=487807747&t=progseg&e=485606589&seg=4&ft=nprml&f=64',\n",
       "      u'type': u'm3u'}],\n",
       "    u'mp4': {u'$text': u'https://ondemand.npr.org/npr-mp4/npr/invsb/2016/07/20160728_invsb_outsidein.mp4?orgId=1&d=3866&p=64&story=487807747&t=progseg&e=485606589&seg=4&ft=nprml&f=64'},\n",
       "    u'wm': {u'$text': u'http://www.npr.org/templates/dmg/dmg_wmref_em.php?id=487807795&type=1&mtype=WM&orgId=1&d=3866&p=64&story=487807747&t=progseg&e=485606589&seg=4&ft=nprml&f=64'}},\n",
       "   u'id': u'487807795',\n",
       "   u'permissions': {u'download': {u'allow': u'true'},\n",
       "    u'embed': {u'allow': u'true'},\n",
       "    u'stream': {u'allow': u'true'}},\n",
       "   u'region': {u'$text': u'all'},\n",
       "   u'rightsHolder': {},\n",
       "   u'stream': {u'active': u'false'},\n",
       "   u'title': {u'$text': u'Listen to the Story'},\n",
       "   u'type': u'primary'}],\n",
       " u'id': u'487807747',\n",
       " u'link': [{u'$text': u'http://www.npr.org/2016/07/29/487807747/read-the-transcript?ft=nprml&f=64',\n",
       "   u'type': u'html'},\n",
       "  {u'$text': u'http://api.npr.org/query?id=487807747&apiKey=MDI2MDExNjc3MDE0NzE4OTMwOTdmNjA1OA000',\n",
       "   u'type': u'api'},\n",
       "  {u'$text': u'http://n.pr/2a7BPJr', u'type': u'short'}],\n",
       " u'text': {u'paragraph': [{u'$text': u'[Copyright 2016 NPR]', u'num': u'1'}]},\n",
       " u'transcript': {u'link': [{u'$text': u'http://www.npr.org/templates/transcript/transcript.php?storyId=487807747&ft=nprml&f=64',\n",
       "    u'type': u'html'},\n",
       "   {u'$text': u'http://api.npr.org/transcript?id=487807747&apiKey=MDI2MDExNjc3MDE0NzE4OTMwOTdmNjA1OA000',\n",
       "    u'type': u'api'}]}}"
      ]
     },
     "execution_count": 54,
     "metadata": {},
     "output_type": "execute_result"
    }
   ],
   "source": [
    "stories"
   ]
  },
  {
   "cell_type": "code",
   "execution_count": null,
   "metadata": {
    "collapsed": true
   },
   "outputs": [],
   "source": []
  }
 ],
 "metadata": {
  "kernelspec": {
   "display_name": "Python 2",
   "language": "python",
   "name": "python2"
  },
  "language_info": {
   "codemirror_mode": {
    "name": "ipython",
    "version": 2
   },
   "file_extension": ".py",
   "mimetype": "text/x-python",
   "name": "python",
   "nbconvert_exporter": "python",
   "pygments_lexer": "ipython2",
   "version": "2.7.10"
  }
 },
 "nbformat": 4,
 "nbformat_minor": 1
}
